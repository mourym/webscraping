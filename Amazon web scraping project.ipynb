{
 "cells": [
  {
   "cell_type": "code",
   "execution_count": 104,
   "id": "4df128ce",
   "metadata": {},
   "outputs": [],
   "source": [
    "# import libraries \n",
    "\n",
    "from bs4 import BeautifulSoup\n",
    "import requests\n",
    "import time\n",
    "import datetime\n",
    "\n",
    "import smtplib"
   ]
  },
  {
   "cell_type": "code",
   "execution_count": 111,
   "id": "8fda777a",
   "metadata": {},
   "outputs": [
    {
     "name": "stdout",
     "output_type": "stream",
     "text": [
      "\n",
      "\n",
      "             Gaming Headset for PC, PS4, PS5, Xbox Headset with 7.1 Surround Sound, Gaming Headphones with Noise Cancelling Mic RGB Light Over Ear Headphones for Xbox Series X/S, Switch\n",
      "            \n",
      "\n",
      "\n",
      "              3,386 ratings\n",
      "             \n"
     ]
    }
   ],
   "source": [
    "URL = 'https://www.amazon.com/Surround-Headphones-Cancelling-Flexible-Earmuffs/dp/B09TB15CTL/ref=sr_1_1?_encoding=UTF8&content-id=amzn1.sym.12129333-2117-4490-9c17-6d31baf0582a&dib=eyJ2IjoiMSJ9.kFa4r_d6Ai_ZS6dUSLhwfSpmcGNBhQxULfjaHbYVNmdi1KF3uHNdCyOpiwc2tqT_UyEaJ1TsDBfaCWLLHD-KnQzB5wfVQL3vMbr2tZ-X1zTKk-9rHNdDALE3ip-hMaLNR2pI0LIpfP3YvW8evK1-EsnWYxEMcfMDXmumM9QsSj0tfmex4YXXZGJtCxZf2PROh5sf971GBuHOqthLB2Xw1uApM4H38ELjXCO2ElybDeY._kx3pvBv7wCLqdcxEmsHKdrJv2Hm8cK1aTDbVBh78fA&dib_tag=se&keywords=gaming+headsets&pd_rd_r=e2da7633-97c2-46f0-b0c2-0c0d30ed86ec&pd_rd_w=sE5Le&pd_rd_wg=E77Vg&pf_rd_p=12129333-2117-4490-9c17-6d31baf0582a&pf_rd_r=SPGAX0YK3TD2TSCJNC05&qid=1719733234&sr=8-1'\n",
    "\n",
    "headers = {\"User-Agent\": \"Mozilla/5.0 (Windows NT 10.0; Win64; x64) AppleWebKit/537.36 (KHTML, like Gecko) Chrome/126.0.0.0 Safari/537.36\", \"Accept-Encoding\":\"gzip, deflate\", \"Accept\":\"text/html,application/xhtml+xml,application/xml;q=0.9,*/*;q=0.8\", \"DNT\":\"1\",\"Connection\":\"close\", \"Upgrade-Insecure-Requests\":\"1\"}\n",
    "\n",
    "page = requests.get(URL, headers=headers)\n",
    "\n",
    "soup1 = BeautifulSoup(page.content, \"html.parser\")\n",
    "\n",
    "soup2 = BeautifulSoup(soup1.prettify(),\"html.parser\")\n",
    "\n",
    "title = soup2.find(id='title').get_text()\n",
    "\n",
    "ratings = soup2.find(id='acrCustomerReviewText').get_text()\n",
    "\n",
    "print(title)\n",
    "print(ratings)"
   ]
  },
  {
   "cell_type": "code",
   "execution_count": 112,
   "id": "a55171d4",
   "metadata": {},
   "outputs": [
    {
     "name": "stdout",
     "output_type": "stream",
     "text": [
      "Gaming Headset for PC, PS4, PS5, Xbox Headset with 7.1 Surround Sound, Gaming Headphones with Noise Cancelling Mic RGB Light Over Ear Headphones for Xbox Series X/S, Switch\n",
      "3,386 ratings\n"
     ]
    }
   ],
   "source": [
    "title =title.strip()\n",
    "ratings=ratings.strip()\n",
    "print(title)\n",
    "print(ratings)"
   ]
  },
  {
   "cell_type": "code",
   "execution_count": 113,
   "id": "d044d40c",
   "metadata": {},
   "outputs": [
    {
     "name": "stdout",
     "output_type": "stream",
     "text": [
      "2024-06-30\n"
     ]
    }
   ],
   "source": [
    "import datetime\n",
    "\n",
    "date = datetime.date.today()\n",
    "\n",
    "print(date)"
   ]
  },
  {
   "cell_type": "code",
   "execution_count": 114,
   "id": "210ea12b",
   "metadata": {},
   "outputs": [],
   "source": [
    "import csv\n",
    "\n",
    "headers = ['Title','Ratings','Date']\n",
    "\n",
    "data = [title,ratings,date]\n",
    "\n",
    "\n",
    "# type(data)\n",
    "\n",
    "with open('Amazonscraping.csv','w',newline='',encoding='UTF8') as f:\n",
    "    writer = csv.writer(f)\n",
    "    writer.writerow(headers)\n",
    "    writer.writerow(data)\n",
    "\n",
    "\n"
   ]
  },
  {
   "cell_type": "code",
   "execution_count": 115,
   "id": "c08c29ab",
   "metadata": {},
   "outputs": [
    {
     "name": "stdout",
     "output_type": "stream",
     "text": [
      "                                               Title        Ratings  \\\n",
      "0  Gaming Headset for PC, PS4, PS5, Xbox Headset ...  3,386 ratings   \n",
      "\n",
      "         Date  \n",
      "0  2024-06-30  \n"
     ]
    }
   ],
   "source": [
    "import pandas as pd\n",
    "dataset = pd.read_csv(r'C:\\Users\\Mourya\\Desktop\\python\\Amazonscraping.csv')\n",
    "\n",
    "print(dataset)"
   ]
  },
  {
   "cell_type": "code",
   "execution_count": 116,
   "id": "59ecce3c",
   "metadata": {},
   "outputs": [],
   "source": [
    "#Appending data\n",
    "\n",
    "with open('Amazonscraping.csv','a+',newline='',encoding='UTF8') as f:\n",
    "    writer = csv.writer(f)\n",
    "    writer.writerow(data)\n",
    "\n",
    "\n"
   ]
  },
  {
   "cell_type": "code",
   "execution_count": null,
   "id": "baf5954a",
   "metadata": {},
   "outputs": [],
   "source": [
    "def check_price_automate():\n",
    "    URL = 'https://www.amazon.com/Surround-Headphones-Cancelling-Flexible-Earmuffs/dp/B09TB15CTL/ref=sr_1_1?_encoding=UTF8&content-id=amzn1.sym.12129333-2117-4490-9c17-6d31baf0582a&dib=eyJ2IjoiMSJ9.kFa4r_d6Ai_ZS6dUSLhwfSpmcGNBhQxULfjaHbYVNmdi1KF3uHNdCyOpiwc2tqT_UyEaJ1TsDBfaCWLLHD-KnQzB5wfVQL3vMbr2tZ-X1zTKk-9rHNdDALE3ip-hMaLNR2pI0LIpfP3YvW8evK1-EsnWYxEMcfMDXmumM9QsSj0tfmex4YXXZGJtCxZf2PROh5sf971GBuHOqthLB2Xw1uApM4H38ELjXCO2ElybDeY._kx3pvBv7wCLqdcxEmsHKdrJv2Hm8cK1aTDbVBh78fA&dib_tag=se&keywords=gaming+headsets&pd_rd_r=e2da7633-97c2-46f0-b0c2-0c0d30ed86ec&pd_rd_w=sE5Le&pd_rd_wg=E77Vg&pf_rd_p=12129333-2117-4490-9c17-6d31baf0582a&pf_rd_r=SPGAX0YK3TD2TSCJNC05&qid=1719733234&sr=8-1'\n",
    "\n",
    "    headers = {\"User-Agent\": \"Mozilla/5.0 (Windows NT 10.0; Win64; x64) AppleWebKit/537.36 (KHTML, like Gecko) Chrome/126.0.0.0 Safari/537.36\", \"Accept-Encoding\":\"gzip, deflate\", \"Accept\":\"text/html,application/xhtml+xml,application/xml;q=0.9,*/*;q=0.8\", \"DNT\":\"1\",\"Connection\":\"close\", \"Upgrade-Insecure-Requests\":\"1\"}\n",
    "\n",
    "    page = requests.get(URL, headers=headers)\n",
    "\n",
    "    soup1 = BeautifulSoup(page.content, \"html.parser\")\n",
    "\n",
    "    soup2 = BeautifulSoup(soup1.prettify(),\"html.parser\")\n",
    "\n",
    "    title = soup2.find(id='title').get_text()\n",
    "\n",
    "    ratings = soup2.find(id='acrCustomerReviewText').get_text()\n",
    "    \n",
    "    title=title.strip()\n",
    "    ratings=ratings.strip()\n",
    "    \n",
    "    import datetime\n",
    "\n",
    "    date = datetime.date.today()\n",
    "    import csv\n",
    "\n",
    "    headers = ['Title','Ratings','Date']\n",
    "\n",
    "    data = [title,ratings,date]\n",
    "    with open('Amazonscraping.csv','a+',newline='',encoding='UTF8') as f:\n",
    "        writer = csv.writer(f)\n",
    "        writer.writerow(data)\n",
    "    "
   ]
  },
  {
   "cell_type": "code",
   "execution_count": null,
   "id": "41704d52",
   "metadata": {},
   "outputs": [],
   "source": [
    "#Adding a timer and automating the data\n",
    "\n",
    "while(True):\n",
    "    check_price_automate()\n",
    "    time.sleep(86400)"
   ]
  },
  {
   "cell_type": "code",
   "execution_count": null,
   "id": "870ca488",
   "metadata": {},
   "outputs": [],
   "source": [
    "import pandas as pd\n",
    "dataset = pd.read_csv(r'C:\\Users\\Mourya\\Desktop\\python\\Amazonscraping.csv')\n",
    "\n",
    "print(dataset)"
   ]
  },
  {
   "cell_type": "code",
   "execution_count": null,
   "id": "e5e32a88",
   "metadata": {},
   "outputs": [],
   "source": []
  }
 ],
 "metadata": {
  "kernelspec": {
   "display_name": "Python 3 (ipykernel)",
   "language": "python",
   "name": "python3"
  },
  "language_info": {
   "codemirror_mode": {
    "name": "ipython",
    "version": 3
   },
   "file_extension": ".py",
   "mimetype": "text/x-python",
   "name": "python",
   "nbconvert_exporter": "python",
   "pygments_lexer": "ipython3",
   "version": "3.9.13"
  }
 },
 "nbformat": 4,
 "nbformat_minor": 5
}
